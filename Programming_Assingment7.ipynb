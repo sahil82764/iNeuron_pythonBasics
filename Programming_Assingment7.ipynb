{
 "cells": [
  {
   "cell_type": "code",
   "execution_count": 1,
   "id": "bf3531fb",
   "metadata": {},
   "outputs": [
    {
     "name": "stdout",
     "output_type": "stream",
     "text": [
      "Write a Python Program to find sum of array? \n",
      "\n",
      "Enter a list of numbers seperated by spaces: 1 2 3 4 5 6 7 8 9\n",
      "Given list is [1, 2, 3, 4, 5, 6, 7, 8, 9] and sum = 45\n"
     ]
    }
   ],
   "source": [
    "Question1 = \"Write a Python Program to find sum of array?\"\n",
    "\n",
    "def sumArray():\n",
    "    print(Question1,\"\\n\")\n",
    "    list1 = list(map(int, input(\"Enter a list of numbers seperated by spaces: \").split(\" \")))\n",
    "    print(f\"Given list is {list1} and sum = {sum(list1)}\")\n",
    "    \n",
    "sumArray()"
   ]
  },
  {
   "cell_type": "code",
   "execution_count": 3,
   "id": "05155665",
   "metadata": {},
   "outputs": [
    {
     "name": "stdout",
     "output_type": "stream",
     "text": [
      "Write a Python Program to find largest element in an array? \n",
      "\n",
      "Enter a list of numbers seperated by spaces: 9 8 7 6 5 4 3 2\n",
      "Given list is [9, 8, 7, 6, 5, 4, 3, 2] and max = 9\n"
     ]
    }
   ],
   "source": [
    "Question2 = \"Write a Python Program to find largest element in an array?\"\n",
    "\n",
    "def maxArray():\n",
    "    print(Question2,\"\\n\")\n",
    "    list1 = list(map(int, input(\"Enter a list of numbers seperated by spaces: \").split(\" \")))\n",
    "    print(f\"Given list is {list1} and max = {max(list1)}\")\n",
    "    \n",
    "maxArray()\n"
   ]
  },
  {
   "cell_type": "code",
   "execution_count": 6,
   "id": "1c209e93",
   "metadata": {},
   "outputs": [
    {
     "name": "stdout",
     "output_type": "stream",
     "text": [
      "Write a Python Program for array rotation? \n",
      "\n",
      "Enter a list of numbers seperated by spaces: 1 2 3 4 5 6 7 8 9\n",
      "Enter the number to rotate n times: 3\n",
      "Given Array = [1, 2, 3, 4, 5, 6, 7, 8, 9] \n",
      " After rotating 3 times = [4, 5, 6, 7, 8, 9, 1, 2, 3]\n"
     ]
    }
   ],
   "source": [
    "Question3 = \"Write a Python Program for array rotation?\"\n",
    "\n",
    "def arrayRotation():\n",
    "    print(Question3,\"\\n\")\n",
    "    list1 = list(map(int, input(\"Enter a list of numbers seperated by spaces: \").split(\" \")))\n",
    "    rotate = int(input(\"Enter the number to rotate n times: \"))\n",
    "    newlist = []\n",
    "    newlist[:] = list1[rotate:len(list1)]+list1[0:rotate]\n",
    "    print(f\"Given Array = {list1} \\n After rotating {rotate} times = {newlist}\")\n",
    "    \n",
    "arrayRotation()"
   ]
  },
  {
   "cell_type": "code",
   "execution_count": 8,
   "id": "12cb04b3",
   "metadata": {},
   "outputs": [
    {
     "name": "stdout",
     "output_type": "stream",
     "text": [
      "Write a Python Program to Split the array and add the first part to the end? \n",
      "\n",
      "Enter a list of numbers (space seperated): 1 2 3 4\n",
      "Given Array: [1, 2, 3, 4] \n",
      " Addition of First and End: 5\n"
     ]
    }
   ],
   "source": [
    "Question4 = \"Write a Python Program to Split the array and add the first part to the end?\"\n",
    "\n",
    "def firstLast():\n",
    "    print(Question4,\"\\n\")\n",
    "    list1 = list(map(int, input(\"Enter a list of numbers (space seperated): \").split(\" \")))\n",
    "    print(f\"Given Array: {list1} \\n Addition of First and End: {list1[0]+list1[len(list1)-1]}\")\n",
    "    \n",
    "firstLast()"
   ]
  },
  {
   "cell_type": "code",
   "execution_count": 24,
   "id": "69a12876",
   "metadata": {},
   "outputs": [
    {
     "name": "stdout",
     "output_type": "stream",
     "text": [
      "Write a Python Program to check if given array is Monotonic? \n",
      "\n",
      "Enter a list of numbers to check for monotone: 5 10 15 5\n",
      "Non-Monotonic\n"
     ]
    }
   ],
   "source": [
    "Question5 = \"Write a Python Program to check if given array is Monotonic?\"\n",
    "\n",
    "def isMonotone():\n",
    "    print(Question5,\"\\n\")\n",
    "    list1 = list(map(int, input(\"Enter a list of numbers to check for monotone: \").split(\" \")))\n",
    "    print(\"Monotonic\" if all(list1[i] <= list1[i + 1] for i in range(len(list1) - 1)) or\n",
    "            all(list1[i] >= list1[i + 1] for i in range(len(list1) - 1)) else \"Non-Monotonic\")\n",
    " \n",
    "isMonotone()"
   ]
  }
 ],
 "metadata": {
  "kernelspec": {
   "display_name": "Python 3 (ipykernel)",
   "language": "python",
   "name": "python3"
  },
  "language_info": {
   "codemirror_mode": {
    "name": "ipython",
    "version": 3
   },
   "file_extension": ".py",
   "mimetype": "text/x-python",
   "name": "python",
   "nbconvert_exporter": "python",
   "pygments_lexer": "ipython3",
   "version": "3.9.12"
  }
 },
 "nbformat": 4,
 "nbformat_minor": 5
}

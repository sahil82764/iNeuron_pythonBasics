{
 "cells": [
  {
   "cell_type": "code",
   "execution_count": null,
   "id": "6ed06cd7",
   "metadata": {},
   "outputs": [],
   "source": [
    "Question1 = \"Write a Python program to find words which are greater than given length k?\"\n",
    "\n",
    "def checkLarge(ls,k):\n",
    "    print(Question1,\"\\n\")\n",
    "    for word in ls:\n",
    "        if len(word) > k:\n",
    "            print(word)\n",
    "    \n",
    "\n",
    "ls = ['Python','C++','Java','Javascript','Ruby']\n",
    "checkLarge(ls, 4)"
   ]
  },
  {
   "cell_type": "code",
   "execution_count": null,
   "id": "47b6a498",
   "metadata": {},
   "outputs": [],
   "source": [
    "Question2 = \"Write a Python program for removing i-th character from a string?\"\n",
    "\n",
    "def remString(s,k):\n",
    "    print(Question2,\"\\n\")\n",
    "    print(s.replace(s[k],'',1))\n",
    "    \n",
    "    \n",
    "remString('Sahil', 3)"
   ]
  },
  {
   "cell_type": "code",
   "execution_count": null,
   "id": "281bfa0d",
   "metadata": {},
   "outputs": [],
   "source": [
    "Question3 = \"Write a Python program to split and join a string?\"\n",
    "\n",
    "def splitJoin(s):\n",
    "    print(Question3,\"\\n\")\n",
    "    ls = s.split(\" \")\n",
    "    ls1 = ' '.join(ls)\n",
    "    print(f\"Given string: {s} \\nSplitted String: {ls} \\nJoined String: {ls1}\")\n",
    "    \n",
    "    \n",
    "splitJoin('Hi, My name is Sahil')"
   ]
  },
  {
   "cell_type": "code",
   "execution_count": null,
   "id": "5f5621f3",
   "metadata": {},
   "outputs": [],
   "source": [
    "Question4 = \"Write a Python to check if a given string is binary string or not?\"\n",
    "\n",
    "def checkBinary(s):\n",
    "    print(\"Binary\" if set(s) == {'0','1'} else \"Non Binary\")\n",
    "    \n",
    "print(Question4,\"\\n\")    \n",
    "checkBinary('0001010101001001111')\n",
    "checkBinary('2101010121001111')"
   ]
  },
  {
   "cell_type": "code",
   "execution_count": null,
   "id": "e6ba346d",
   "metadata": {},
   "outputs": [],
   "source": [
    "Question5 = \"Write a Python program to find uncommon words from two Strings?\"\n",
    "\n",
    "def unCommon(s1, s2):\n",
    "    s1, s2 = s1.split(), s2.split()\n",
    "    k = set(s1).symmetric_difference(set(s2))\n",
    "    print(k)\n",
    "    \n",
    "print(Question5)\n",
    "unCommon('Sahil Khan', 'Sahil Sharma')\n",
    "    "
   ]
  },
  {
   "cell_type": "code",
   "execution_count": null,
   "id": "34c67872",
   "metadata": {},
   "outputs": [],
   "source": [
    "from collections import Counter\n",
    "\n",
    "Question6 = \"Write a Python to find all duplicate characters in string?\"\n",
    "\n",
    "def dupString(s):\n",
    "    w = Counter(s)\n",
    "    for key, value in w.items():\n",
    "        if value >1:\n",
    "            print(key, end=',')\n",
    "            \n",
    "dupString('uncommon believe')\n",
    "    "
   ]
  },
  {
   "cell_type": "code",
   "execution_count": null,
   "id": "855b7c41",
   "metadata": {},
   "outputs": [],
   "source": [
    "Question7 = \"Write a Python Program to check if a string contains any special character?\"\n",
    "\n",
    "def specialCH(s):\n",
    "    print(\"Presence of Special Character\" if any(not k.isalnum() for k in s) else \"Special Character not present\")\n",
    "    \n",
    "print(Question7)\n",
    "specialCH('maslfkdhfskj&askfhk*')\n",
    "specialCH('maslfkdhfskjaskfhk')"
   ]
  }
 ],
 "metadata": {
  "kernelspec": {
   "display_name": "Python 3 (ipykernel)",
   "language": "python",
   "name": "python3"
  },
  "language_info": {
   "codemirror_mode": {
    "name": "ipython",
    "version": 3
   },
   "file_extension": ".py",
   "mimetype": "text/x-python",
   "name": "python",
   "nbconvert_exporter": "python",
   "pygments_lexer": "ipython3",
   "version": "3.9.12"
  }
 },
 "nbformat": 4,
 "nbformat_minor": 5
}

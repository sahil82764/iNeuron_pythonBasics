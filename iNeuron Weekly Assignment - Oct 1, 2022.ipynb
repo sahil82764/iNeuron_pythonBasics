{
 "cells": [
  {
   "cell_type": "code",
   "execution_count": 6,
   "id": "d2f0a630",
   "metadata": {},
   "outputs": [
    {
     "ename": "IndentationError",
     "evalue": "expected an indented block (173903339.py, line 15)",
     "output_type": "error",
     "traceback": [
      "\u001b[1;36m  Input \u001b[1;32mIn [6]\u001b[1;36m\u001b[0m\n\u001b[1;33m    print(f\"x:{x}\")\u001b[0m\n\u001b[1;37m    ^\u001b[0m\n\u001b[1;31mIndentationError\u001b[0m\u001b[1;31m:\u001b[0m expected an indented block\n"
     ]
    }
   ],
   "source": [
    "Question1 = \"What is indentation error? Why indentation is important? Give one simple example?\"\n",
    "\n",
    "Answer = \"\"\" The indentation error is the like the absence of tabs or whitespaces between lines of code. \n",
    "    If the user miss out on adding tabs or spaces between your lines of code, then the user can experience this error.\n",
    "    \n",
    "    Python uses indentation to identify a block of code. Without indentation, Python does not know which statement to \n",
    "    execute next or which statement belongs to which block.\"\"\"\n",
    "\n",
    "x = 10\n",
    "\n",
    "if x == 10:\n",
    "    print(f\"x:{x}\")\n",
    "\n",
    "if x == 10:\n",
    "print(f\"x:{x}\")"
   ]
  },
  {
   "cell_type": "code",
   "execution_count": 7,
   "id": "0f3f507c",
   "metadata": {},
   "outputs": [
    {
     "name": "stdout",
     "output_type": "stream",
     "text": [
      "Hey friend, is class started?: [0-False/1-True]0\n",
      "Since class is not started...\n",
      "let's revise\n"
     ]
    }
   ],
   "source": [
    "Question2 = \"Correct the following code and write the comment where you made the correction?\"\n",
    "\n",
    "class_started = bool(int(input(\"Hey friend, is class started?: [0-False/1-True]\")))  # convert str to int (correction)\n",
    "\n",
    "if class_started:\n",
    "   print(\"Since class started...\")\n",
    "   print(\"Lets concentrate\")\n",
    "else:\n",
    "   print(\"Since class is not started...\")\n",
    "   print(\"let's revise\")"
   ]
  },
  {
   "cell_type": "code",
   "execution_count": 9,
   "id": "b51909fc",
   "metadata": {},
   "outputs": [
    {
     "name": "stdout",
     "output_type": "stream",
     "text": [
      "enter anything:sa\n",
      "<class 'str'>\n"
     ]
    }
   ],
   "source": [
    "Question3 = \"Use if else condition to verify that dataype of input() method in python is always string.\"\n",
    "\n",
    "print(type(input(\"enter anything:\")))"
   ]
  },
  {
   "cell_type": "code",
   "execution_count": 12,
   "id": "318e9b79",
   "metadata": {},
   "outputs": [
    {
     "name": "stdout",
     "output_type": "stream",
     "text": [
      "Take 3 variables and assign integer values to them. Find the largest variable, by only using the if and else conditions. \n",
      "\n",
      "Enter 3 values with space between then1 3 2\n",
      "Larget Value: 3\n"
     ]
    }
   ],
   "source": [
    "Question4 = \"Take 3 variables and assign integer values to them. Find the largest variable, by only using the if and else conditions.\"\n",
    "\n",
    "\n",
    "def findLarge():\n",
    "    print(Question4,\"\\n\")\n",
    "    a,b,c = map(int,input(\"Enter 3 values with space between then\").split(\" \"))\n",
    "    if a>b:\n",
    "        if a>c:\n",
    "            print(f\"Larget Value: {a}\")\n",
    "    elif b>c:\n",
    "        print(f\"Larget Value: {b}\")\n",
    "    else:\n",
    "        print(f\"Larget Value: {c}\")\n",
    "        \n",
    "findLarge()"
   ]
  },
  {
   "cell_type": "code",
   "execution_count": 14,
   "id": "7c3c30c6",
   "metadata": {},
   "outputs": [
    {
     "name": "stdout",
     "output_type": "stream",
     "text": [
      "What would be the solution?\n",
      "    a = 6\n",
      "    b = 10\n",
      "    print( not ( not a == 10 or not b == 10) ) \n",
      " False\n",
      "False\n"
     ]
    }
   ],
   "source": [
    "Question5 = \"\"\"What would be the solution?\n",
    "    a = 6\n",
    "    b = 10\n",
    "    print( not ( not a == 10 or not b == 10) )\"\"\"\n",
    "\n",
    "def ans():\n",
    "    print(Question5,\"\\n\",\"False\")\n",
    "    a = 6\n",
    "    b = 10\n",
    "    print( not ( not a == 10 or not b == 10) )\n",
    "    \n",
    "ans()\n",
    "    "
   ]
  },
  {
   "cell_type": "code",
   "execution_count": 30,
   "id": "29e61164",
   "metadata": {},
   "outputs": [
    {
     "name": "stdout",
     "output_type": "stream",
     "text": [
      "Find the answer as well as find out the reason behind the result?\n",
      "    Case1:\n",
      "    A = 5.0\n",
      "    B = 10/2\n",
      "    print(A is B)\n",
      "    \n",
      "    Case2: \n",
      "    A = 5.0\n",
      "    B = int(10/2)\n",
      "    print(A is B)\n",
      "    \n",
      "    Case3:\n",
      "    A = 5.0\n",
      "    B = float(10/2)\n",
      "    print(A is B)\n",
      " \n",
      "\n",
      "\n",
      "    Case1:\n",
      "        'is' is not equal to '==' as == compare the object value and is operator check whether the value points to the same memory code\n",
      "    \n",
      "    Case2:\n",
      "        A is float and B is int and both does not point to the same memory code\n",
      "        \n",
      "    Case3: \n",
      "        A and B does not to the same memory code.\n",
      "\n"
     ]
    }
   ],
   "source": [
    "Question6 = \"\"\"Find the answer as well as find out the reason behind the result?\n",
    "    Case1:\n",
    "    A = 5.0\n",
    "    B = 10/2\n",
    "    print(A is B)\n",
    "    \n",
    "    Case2: \n",
    "    A = 5.0\n",
    "    B = int(10/2)\n",
    "    print(A is B)\n",
    "    \n",
    "    Case3:\n",
    "    A = 5.0\n",
    "    B = float(10/2)\n",
    "    print(A is B)\n",
    "\"\"\"\n",
    "\n",
    "def ans():\n",
    "    print(Question6,\"\\n\")\n",
    "    print(\"\"\"\n",
    "    Case1:\n",
    "        'is' is not equal to '==' as == compare the object value and is operator check whether the value points to the same memory code\n",
    "    \n",
    "    Case2:\n",
    "        A is float and B is int and both does not point to the same memory code\n",
    "        \n",
    "    Case3: \n",
    "        A and B does not to the same memory code.\n",
    "\"\"\")\n",
    "    \n",
    "ans()\n",
    "          "
   ]
  },
  {
   "cell_type": "code",
   "execution_count": 34,
   "id": "0bec3ee1",
   "metadata": {},
   "outputs": [
    {
     "name": "stdout",
     "output_type": "stream",
     "text": [
      "Write a program that asks the user to enter a number. You should print out a message to the user, either “That number is divisible by either 3 or 5”, or “That number is not divisible by either 3 or 5”. Be sure to consider the data type of the input you are taking in from the user. Use a single if/else block to solve this problem. \n",
      "\n",
      "Enter an integer/number:7\n",
      "That number is not divisible by either 3 or 5\n"
     ]
    }
   ],
   "source": [
    "Question7 = \"Write a program that asks the user to enter a number. You should print out a message to the user, either “That number is divisible by either 3 or 5”, or “That number is not divisible by either 3 or 5”. Be sure to consider the data type of the input you are taking in from the user. Use a single if/else block to solve this problem.\"\n",
    "\n",
    "def ans():\n",
    "    print(Question7,\"\\n\")\n",
    "    a = int(input(\"Enter an integer/number:\"))\n",
    "    if a%3 == 0 or a%5 == 0 :\n",
    "        print(\"That number is divisible by either 3 or 5\")\n",
    "    else: \n",
    "        print(\"That number is not divisible by either 3 or 5\")\n",
    "        \n",
    "ans()"
   ]
  },
  {
   "cell_type": "code",
   "execution_count": 36,
   "id": "9beb0e6a",
   "metadata": {},
   "outputs": [
    {
     "name": "stdout",
     "output_type": "stream",
     "text": [
      "Take user input for length and width. Then calculate the area of rectangle. Also print as per length and width whether its a square of rectangle. \n",
      "\n",
      "Enter length and width to calculate area: 4 3\n",
      "Area: 12\n",
      "Rectangle\n"
     ]
    }
   ],
   "source": [
    "Question8 = \"Take user input for length and width. Then calculate the area of rectangle. Also print as per length and width whether its a square of rectangle.\"\n",
    "\n",
    "def area():\n",
    "    print(Question8,\"\\n\")\n",
    "    a,b = map(int, input(\"Enter length and width to calculate area: \").split(\" \"))\n",
    "    print(f\"Area: {a*b}\")\n",
    "    print(\"Sqaure\" if a==b else \"Rectangle\")\n",
    "    \n",
    "area()\n",
    "    "
   ]
  },
  {
   "cell_type": "code",
   "execution_count": 42,
   "id": "d2273473",
   "metadata": {},
   "outputs": [
    {
     "name": "stdout",
     "output_type": "stream",
     "text": [
      "Take two variable radius_1 and radius_2 and calculate the area of circle_1 and circle_2. Also print which circle has large area. If area is equal then print area is equal. \n",
      "\n",
      "enter radius1 and radius2 with space seperated: 3 4\n",
      "Area of Circle with Radius 3: 28.259999999999998\n",
      "Area of Circle with Radius 4: 50.24\n",
      "Cirlce with radius 4 has maximum area: 50.24\n"
     ]
    }
   ],
   "source": [
    "Question9 = \"Take two variable radius_1 and radius_2 and calculate the area of circle_1 and circle_2. Also print which circle has large area. If area is equal then print area is equal.\"\n",
    "\n",
    "def area(rad1):\n",
    "    return 3.14*rad1*rad1\n",
    "\n",
    "def areaCircle():\n",
    "    print(Question9,\"\\n\")\n",
    "    rad1,rad2 = map(int, input(\"enter radius1 and radius2 with space seperated: \").split(\" \"))\n",
    "    print(f\"Area of Circle with Radius {rad1}: {area(rad1)}\\nArea of Circle with Radius {rad2}: {area(rad2)}\")\n",
    "    print(\"Equal area\" if rad1==rad2 else f\"Cirlce with radius {max(rad1,rad2)} has maximum area: {area(max(rad1,rad2))}\")\n",
    "    \n",
    "areaCircle()"
   ]
  },
  {
   "cell_type": "code",
   "execution_count": 43,
   "id": "c985cdaa",
   "metadata": {},
   "outputs": [
    {
     "name": "stdout",
     "output_type": "stream",
     "text": [
      "Use if else condition to verify that dataype of input() method in python is always string.\n",
      "Enter a year to check for leap year: 2000\n",
      "The year is a leap year!\n"
     ]
    }
   ],
   "source": [
    "Question10 = \"Check whether a year is leap year or not. Use nested if...else to solve this problem. A leap year is exactly divisible by 4 except for century years (years ending with 00). The century year is a leap year only if it is perfectly divisible by 400.\"\n",
    "\n",
    "def leapYear():\n",
    "    print(Question3)\n",
    "    year = int(input(\"Enter a year to check for leap year: \"))\n",
    "    \n",
    "    if (year % 4) == 0:\n",
    "        if (year % 100) == 0:\n",
    "            if (year % 400) == 0:\n",
    "                print(\"The year is a leap year!\")\n",
    "            else:\n",
    "                print(\"The year is a not leap year!\")\n",
    "        else:\n",
    "            print(\"The year is a leap year!\")\n",
    "    else:\n",
    "        print(\"The year is not a leap year!\")\n",
    "leapYear()"
   ]
  }
 ],
 "metadata": {
  "kernelspec": {
   "display_name": "Python 3 (ipykernel)",
   "language": "python",
   "name": "python3"
  },
  "language_info": {
   "codemirror_mode": {
    "name": "ipython",
    "version": 3
   },
   "file_extension": ".py",
   "mimetype": "text/x-python",
   "name": "python",
   "nbconvert_exporter": "python",
   "pygments_lexer": "ipython3",
   "version": "3.9.12"
  }
 },
 "nbformat": 4,
 "nbformat_minor": 5
}

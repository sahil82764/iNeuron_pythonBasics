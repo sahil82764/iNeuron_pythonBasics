{
 "cells": [
  {
   "cell_type": "code",
   "execution_count": 3,
   "id": "a4b36abe",
   "metadata": {},
   "outputs": [
    {
     "name": "stdout",
     "output_type": "stream",
     "text": [
      "Write a Python program to print \"Hello Python\"?\n",
      "Hello Python\n"
     ]
    }
   ],
   "source": [
    "Question1 = 'Write a Python program to print \"Hello Python\"?'\n",
    "\n",
    "def helloPython():\n",
    "    print(Question1)\n",
    "    print(\"Hello Python\")\n",
    "helloPython()"
   ]
  },
  {
   "cell_type": "code",
   "execution_count": 4,
   "id": "0558cbd4",
   "metadata": {},
   "outputs": [
    {
     "name": "stdout",
     "output_type": "stream",
     "text": [
      "Write a Python program to do arithmetical operations addition and division?\n",
      "x: 10, y: 5\n",
      "Addition:  15\n",
      "Division:  2.0\n"
     ]
    }
   ],
   "source": [
    "Question2 = \"Write a Python program to do arithmetical operations addition and division?\"\n",
    "\n",
    "def artOps():\n",
    "    x = 10\n",
    "    y = 5\n",
    "    print(Question2)\n",
    "    print(f\"x: {x}, y: {y}\" )\n",
    "    print(\"Addition: \", x+y )\n",
    "    print(\"Division: \", x/y )\n",
    "artOps()"
   ]
  },
  {
   "cell_type": "code",
   "execution_count": 7,
   "id": "fac8d8ef",
   "metadata": {},
   "outputs": [
    {
     "name": "stdout",
     "output_type": "stream",
     "text": [
      "Write a Python program to find the area of a triangle? \n",
      "\n",
      "a: 5, b: 4, c: 2\n",
      "The area of the triangle is 3.799671038392666\n"
     ]
    }
   ],
   "source": [
    "Question3 = \"Write a Python program to find the area of a triangle?\"\n",
    "\n",
    "def areaTriangle(a, b, c):\n",
    "    s = (a + b + c) / 2  \n",
    "    area = (s*(s-a)*(s-b)*(s-c)) ** 0.5  \n",
    "    print(Question3, \"\\n\")\n",
    "    print(f\"a: {a}, b: {b}, c: {c}\")\n",
    "    print(f'The area of the triangle is {area}')\n",
    "    \n",
    "areaTriangle(5,4,2)"
   ]
  },
  {
   "cell_type": "code",
   "execution_count": 8,
   "id": "a3e67c3f",
   "metadata": {},
   "outputs": [
    {
     "name": "stdout",
     "output_type": "stream",
     "text": [
      "Write a Python program to swap two variables? \n",
      "\n",
      "Before swapping, Variable A: 5 :: Variable B: 9\n",
      "After swapping, Variable A: 9 :: Variable B: 5\n"
     ]
    }
   ],
   "source": [
    "Question4 = \"Write a Python program to swap two variables?\"\n",
    "\n",
    "def swapVar():\n",
    "    varA = 5\n",
    "    varB = 9\n",
    "    print(Question4, \"\\n\")\n",
    "    print(f\"Before swapping, Variable A: {varA} :: Variable B: {varB}\")\n",
    "    varA = varA + varB\n",
    "    varB = varA - varB\n",
    "    varA = varA - varB\n",
    "    print(f\"After swapping, Variable A: {varA} :: Variable B: {varB}\")\n",
    "    \n",
    "swapVar()"
   ]
  },
  {
   "cell_type": "code",
   "execution_count": 9,
   "id": "afedf0d4",
   "metadata": {},
   "outputs": [
    {
     "name": "stdout",
     "output_type": "stream",
     "text": [
      "Write a Python program to generate a random number? \n",
      "\n",
      "Lower Limit: 10, Upper_Limit: 100\n",
      "70\n"
     ]
    }
   ],
   "source": [
    "import random\n",
    "\n",
    "Question5 = \"Write a Python program to generate a random number?\"\n",
    "\n",
    "def genRandom():\n",
    "    lower_limit = 10\n",
    "    upper_limit = 100\n",
    "    print(Question5,\"\\n\")\n",
    "    print(f\"Lower Limit: {lower_limit}, Upper_Limit: {upper_limit}\")\n",
    "    print(random.randint(lower_limit,upper_limit))\n",
    "    \n",
    "genRandom()    "
   ]
  }
 ],
 "metadata": {
  "kernelspec": {
   "display_name": "Python 3 (ipykernel)",
   "language": "python",
   "name": "python3"
  },
  "language_info": {
   "codemirror_mode": {
    "name": "ipython",
    "version": 3
   },
   "file_extension": ".py",
   "mimetype": "text/x-python",
   "name": "python",
   "nbconvert_exporter": "python",
   "pygments_lexer": "ipython3",
   "version": "3.9.12"
  }
 },
 "nbformat": 4,
 "nbformat_minor": 5
}

{
 "cells": [
  {
   "cell_type": "code",
   "execution_count": 5,
   "id": "8bc7d99c",
   "metadata": {},
   "outputs": [
    {
     "name": "stdout",
     "output_type": "stream",
     "text": [
      "Write a Python Program to Find LCM? \n",
      "\n",
      "Enter numbers to find the lcm: 24 54\n",
      "LCM of given two numbers is: 216\n"
     ]
    }
   ],
   "source": [
    "Question1 = \"Write a Python Program to Find LCM?\"\n",
    "\n",
    "def findHCF(num1,num2):\n",
    "    while(num2):\n",
    "        num1,num2 = num2, num1%num2\n",
    "    return num1\n",
    "\n",
    "def findLcm():\n",
    "    print(Question1,\"\\n\")\n",
    "    num1, num2 = map(int,input(\"Enter numbers to find the lcm: \").split(\" \"))\n",
    "    print(f\"LCM of given two numbers is: {(num1*num2)//findHCF(num1,num2)}\")\n",
    "    \n",
    "findLcm()    "
   ]
  },
  {
   "cell_type": "code",
   "execution_count": 6,
   "id": "01d96997",
   "metadata": {},
   "outputs": [
    {
     "name": "stdout",
     "output_type": "stream",
     "text": [
      "Write a Python Program to Find HCF? \n",
      "\n",
      "Enter numbers to find the HCF: 54 24\n",
      "HCF of given two numbers is: 6\n"
     ]
    }
   ],
   "source": [
    "Question2 = \"Write a Python Program to Find HCF?\"\n",
    "\n",
    "def findHcf():\n",
    "    print(Question2,\"\\n\")\n",
    "    num1, num2 = map(int,input(\"Enter numbers to find the HCF: \").split(\" \"))\n",
    "    while(num2):\n",
    "        num1,num2 = num2, num1%num2\n",
    "    print(f\"HCF of given two numbers is: {num1}\")\n",
    "    \n",
    "findHcf()"
   ]
  },
  {
   "cell_type": "code",
   "execution_count": 7,
   "id": "2e3be1af",
   "metadata": {},
   "outputs": [
    {
     "name": "stdout",
     "output_type": "stream",
     "text": [
      "Write a Python Program to Convert Decimal to Binary, Octal and Hexadecimal? \n",
      "\n",
      "Enter a decimal number: 344\n",
      "Decimal Number: 344\n",
      "Binary Number: 0b101011000\n",
      "Octal Number: 0o530\n",
      "Hexadecimal Number: 0x158\n"
     ]
    }
   ],
   "source": [
    "Question3 = \"Write a Python Program to Convert Decimal to Binary, Octal and Hexadecimal?\"\n",
    "\n",
    "def convert():\n",
    "    print(Question3,\"\\n\")\n",
    "    num = int(input(\"Enter a decimal number: \"))\n",
    "    print(f\"Decimal Number: {num}\")\n",
    "    print(f\"Binary Number: {bin(num)}\")\n",
    "    print(f\"Octal Number: {oct(num)}\")\n",
    "    print(f\"Hexadecimal Number: {hex(num)}\")\n",
    "    \n",
    "convert() "
   ]
  },
  {
   "cell_type": "code",
   "execution_count": 8,
   "id": "5592f0b3",
   "metadata": {},
   "outputs": [
    {
     "name": "stdout",
     "output_type": "stream",
     "text": [
      "Write a Python Program To Find ASCII value of a character? \n",
      "\n",
      "Enter a character to find its ASCII value: A\n",
      "The ASCII value of A is 65\n"
     ]
    }
   ],
   "source": [
    "Question4 = \"Write a Python Program To Find ASCII value of a character?\"\n",
    "\n",
    "def findASCII():\n",
    "    print(Question4,\"\\n\")\n",
    "    char1 = input(\"Enter a character to find its ASCII value: \")\n",
    "    print(f\"The ASCII value of {char1} is {ord(char1)}\")\n",
    "    \n",
    "findASCII()"
   ]
  },
  {
   "cell_type": "code",
   "execution_count": 16,
   "id": "73569181",
   "metadata": {},
   "outputs": [
    {
     "name": "stdout",
     "output_type": "stream",
     "text": [
      "Write a Python Program to Make a Simple Calculator with 4 basic mathematical operations? \n",
      "\n",
      "Welcome to Calculater Interface: \n",
      " 1. Add \n",
      " 2. Subtract \n",
      " 3. Multiply \n",
      " 4. Divide\n",
      "Enter choice: 4\n",
      "Enter two numbers to divide: 4 2\n",
      "Division: 2.0\n"
     ]
    }
   ],
   "source": [
    "Question5 = \"Write a Python Program to Make a Simple Calculator with 4 basic mathematical operations?\"\n",
    "\n",
    "def calci():\n",
    "    print(Question5,\"\\n\")\n",
    "    print(\"Welcome to Calculater Interface: \\n 1. Add \\n 2. Subtract \\n 3. Multiply \\n 4. Divide\")\n",
    "    choice = int(input(\"Enter choice: \"))\n",
    "    if choice == 1:\n",
    "        num = list(map(int, input(\"Enter numbers to add: \").split(\" \")))\n",
    "        print(f\"Sum: {sum(num)}\")\n",
    "        \n",
    "    elif choice == 2:\n",
    "        num1, num2 = map(int, input(\"Enter two numbers to subtract: \").split(\" \"))\n",
    "        print(f\"Difference: {num1-num2}\")\n",
    "        \n",
    "    elif choice == 3:\n",
    "        num1, num2 = map(int, input(\"Enter two numbers to multiply: \").split(\" \"))\n",
    "        print(f\"Product: {num1*num2}\")\n",
    "        \n",
    "    elif choice == 4:\n",
    "        num1, num2 = map(int, input(\"Enter two numbers to divide: \").split(\" \"))\n",
    "        print(f\"Division: {num1/num2}\")\n",
    "    \n",
    "    else:\n",
    "        print(\"Invalid choice\")\n",
    "        \n",
    "calci()\n",
    "        "
   ]
  }
 ],
 "metadata": {
  "kernelspec": {
   "display_name": "Python 3 (ipykernel)",
   "language": "python",
   "name": "python3"
  },
  "language_info": {
   "codemirror_mode": {
    "name": "ipython",
    "version": 3
   },
   "file_extension": ".py",
   "mimetype": "text/x-python",
   "name": "python",
   "nbconvert_exporter": "python",
   "pygments_lexer": "ipython3",
   "version": "3.9.12"
  }
 },
 "nbformat": 4,
 "nbformat_minor": 5
}

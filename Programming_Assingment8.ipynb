{
 "cells": [
  {
   "cell_type": "code",
   "execution_count": 10,
   "id": "ee5d8265",
   "metadata": {},
   "outputs": [
    {
     "name": "stdout",
     "output_type": "stream",
     "text": [
      "Write a Python Program to Add Two Matrices? \n",
      "\n",
      "\n",
      " Enter row and column: 2 2\n",
      "\n",
      " Enter values for Matrics 1 row-wise: 1 2 3 4\n",
      "\n",
      " Enter values for Matrics 2 row-wise: 5 6 7 8\n",
      "\n",
      " Matrics 1 = [[1 2]\n",
      " [3 4]] \n",
      " Matrics 2 = [[5 6]\n",
      " [7 8]] \n",
      " Addition of Matrics: [[ 6  8]\n",
      " [10 12]]\n"
     ]
    }
   ],
   "source": [
    "import numpy as np\n",
    "\n",
    "Question1 = \"Write a Python Program to Add Two Matrices?\"\n",
    "\n",
    "def addMat():\n",
    "    print(Question1,\"\\n\")\n",
    "    row, column = map(int, input(\"\\n Enter row and column: \").split(\" \"))\n",
    "    mat1 = list(map(int, input(\"\\n Enter values for Matrics 1 row-wise: \").split(\" \")))\n",
    "    mat2 = list(map(int, input(\"\\n Enter values for Matrics 2 row-wise: \").split(\" \")))\n",
    "    matrics1 = np.array(mat1).reshape(row,column)\n",
    "    matrics2 = np.array(mat2).reshape(row,column)\n",
    "    \n",
    "    print(f\"\\n Matrics 1 = {matrics1} \\n Matrics 2 = {matrics2} \\n Addition of Matrics: {matrics1+matrics2}\")\n",
    "    \n",
    "addMat()"
   ]
  },
  {
   "cell_type": "code",
   "execution_count": 11,
   "id": "5351c91b",
   "metadata": {},
   "outputs": [
    {
     "name": "stdout",
     "output_type": "stream",
     "text": [
      "Write a Python Program to Multiply Two Matrices? \n",
      "\n",
      "\n",
      " Enter row and column: 2 2\n",
      "\n",
      " Enter values for Matrics 1 row-wise: 1 2 3 4\n",
      "\n",
      " Enter values for Matrics 2 row-wise: 4 3 2 1\n",
      "\n",
      " Matrics 1 = [[1 2]\n",
      " [3 4]] \n",
      " Matrics 2 = [[4 3]\n",
      " [2 1]] \n",
      " Addition of Matrics: [[4 6]\n",
      " [6 4]]\n"
     ]
    }
   ],
   "source": [
    "Question2 = \"Write a Python Program to Multiply Two Matrices?\"\n",
    "\n",
    "def mulMat():\n",
    "    print(Question2,\"\\n\")\n",
    "    row, column = map(int, input(\"\\n Enter row and column: \").split(\" \"))\n",
    "    mat1 = list(map(int, input(\"\\n Enter values for Matrics 1 row-wise: \").split(\" \")))\n",
    "    mat2 = list(map(int, input(\"\\n Enter values for Matrics 2 row-wise: \").split(\" \")))\n",
    "    matrics1 = np.array(mat1).reshape(row,column)\n",
    "    matrics2 = np.array(mat2).reshape(row,column)\n",
    "    \n",
    "    print(f\"\\n Matrics 1 = {matrics1} \\n Matrics 2 = {matrics2} \\n Addition of Matrics: {matrics1*matrics2}\")\n",
    "    \n",
    "mulMat()"
   ]
  },
  {
   "cell_type": "code",
   "execution_count": 14,
   "id": "6327d06d",
   "metadata": {},
   "outputs": [
    {
     "name": "stdout",
     "output_type": "stream",
     "text": [
      "Write a Python Program to Transpose a Matrix? \n",
      "\n",
      "\n",
      " Enter row and column: 2 3\n",
      "\n",
      " Enter values for Matrics 1 row-wise: 1 2 3 4 5 6\n",
      "\n",
      " Matrics 1 = [[1 2 3]\n",
      " [4 5 6]] \n",
      " Transpose of Matric: [[1 4]\n",
      " [2 5]\n",
      " [3 6]]\n"
     ]
    }
   ],
   "source": [
    "Question3 = \"Write a Python Program to Transpose a Matrix?\"\n",
    "\n",
    "def transposeMat():\n",
    "    print(Question3,\"\\n\")\n",
    "    row, column = map(int, input(\"\\n Enter row and column: \").split(\" \"))\n",
    "    mat1 = list(map(int, input(\"\\n Enter values for Matrics 1 row-wise: \").split(\" \")))\n",
    "    matrics1 = np.array(mat1).reshape(row,column)\n",
    "    \n",
    "    print(f\"\\n Matrics 1 = {matrics1} \\n Transpose of Matric: {np.transpose(matrics1)}\")\n",
    "    \n",
    "transposeMat()"
   ]
  },
  {
   "cell_type": "code",
   "execution_count": 19,
   "id": "a01800a2",
   "metadata": {},
   "outputs": [
    {
     "name": "stdout",
     "output_type": "stream",
     "text": [
      "Write a Python Program to Sort Words in Alphabetic Order? \n",
      "\n",
      "Enter a string: Hi i am Sahil Khan\n",
      "Words sorted in Alphabetic order: ['am', 'hi', 'i', 'khan', 'sahil']\n"
     ]
    }
   ],
   "source": [
    "Question4 = \"Write a Python Program to Sort Words in Alphabetic Order?\"\n",
    "\n",
    "def sortWord():\n",
    "    print(Question4,\"\\n\")\n",
    "    string1 = list(input(\"Enter a string: \").split(\" \"))\n",
    "    string1 = [i.lower() for i in string1]\n",
    "    print(f\"Words sorted in Alphabetic order: {sorted(string1)}\")\n",
    "    \n",
    "sortWord()    "
   ]
  },
  {
   "cell_type": "code",
   "execution_count": 21,
   "id": "aff7daf9",
   "metadata": {},
   "outputs": [
    {
     "name": "stdout",
     "output_type": "stream",
     "text": [
      "Write a Python Program to Remove Punctuation From a String? \n",
      "\n",
      "Enter a string with as many punctuations as you can: hi, i& am() &Sahil& %Khan%\n",
      "\n",
      "Entered String: hi, i& am() &Sahil& %Khan%\n",
      "After removing punctuations: hi i am Sahil Khan\n"
     ]
    }
   ],
   "source": [
    "import re\n",
    "\n",
    "Question5 = \"Write a Python Program to Remove Punctuation From a String?\"\n",
    "\n",
    "def removePunc():\n",
    "    print(Question5,\"\\n\")\n",
    "    string1 = input(\"Enter a string with as many punctuations as you can: \")\n",
    "    print(f\"\\nEntered String: {string1}\")\n",
    "    result = re.sub(r'[^\\w\\s]',\"\",string1)\n",
    "    print(f\"After removing punctuations: {result}\")\n",
    "    \n",
    "removePunc()"
   ]
  }
 ],
 "metadata": {
  "kernelspec": {
   "display_name": "Python 3 (ipykernel)",
   "language": "python",
   "name": "python3"
  },
  "language_info": {
   "codemirror_mode": {
    "name": "ipython",
    "version": 3
   },
   "file_extension": ".py",
   "mimetype": "text/x-python",
   "name": "python",
   "nbconvert_exporter": "python",
   "pygments_lexer": "ipython3",
   "version": "3.9.12"
  }
 },
 "nbformat": 4,
 "nbformat_minor": 5
}

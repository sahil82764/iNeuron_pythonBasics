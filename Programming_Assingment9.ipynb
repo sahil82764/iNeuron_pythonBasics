{
 "cells": [
  {
   "cell_type": "code",
   "execution_count": 2,
   "id": "086b7ef1",
   "metadata": {},
   "outputs": [
    {
     "name": "stdout",
     "output_type": "stream",
     "text": [
      "Write a Python program to check if the given number is a Disarium Number? \n",
      "\n",
      "Enter a number to check for disarium: 176\n",
      "Given number is not Disarium\n"
     ]
    }
   ],
   "source": [
    "Question1 = \"Write a Python program to check if the given number is a Disarium Number?\"\n",
    "\n",
    "def checkDisarium():\n",
    "    print(Question1,\"\\n\")\n",
    "    num = input(\"Enter a number to check for disarium: \")\n",
    "    pos = len(num)\n",
    "    temp, sum1 = int(num), 0\n",
    "    while temp > 0:\n",
    "        rem = temp%10\n",
    "        sum1 += rem**pos\n",
    "        temp = temp//10\n",
    "        pos -= 1\n",
    "        \n",
    "    print(f\"Given number is Disarium:: Number {num} = Sum {sum1}\" if sum1 == int(num) else \"Given number is not Disarium\")\n",
    "    \n",
    "checkDisarium()"
   ]
  },
  {
   "cell_type": "code",
   "execution_count": 3,
   "id": "96b63a37",
   "metadata": {},
   "outputs": [
    {
     "name": "stdout",
     "output_type": "stream",
     "text": [
      "Write a Python program to print all disarium numbers between 1 to 100? \n",
      "\n",
      "1\n",
      "2\n",
      "3\n",
      "4\n",
      "5\n",
      "6\n",
      "7\n",
      "8\n",
      "9\n",
      "89\n"
     ]
    }
   ],
   "source": [
    "Question2 = \"Write a Python program to print all disarium numbers between 1 to 100?\"\n",
    "\n",
    "def lenCal(num):\n",
    "    length = 0\n",
    "    while num != 0:\n",
    "        length += 1\n",
    "        num = num//10\n",
    "    return length\n",
    "\n",
    "def sumOfDigits(num):\n",
    "    pos, sum1= lenCal(num), 0\n",
    "    \n",
    "    while num > 0:\n",
    "        rem = num%10\n",
    "        sum1 += rem**pos\n",
    "        num = num//10\n",
    "        pos -= 1\n",
    "    return sum1\n",
    "    \n",
    "res = 0    \n",
    "\n",
    "def showDisarium():\n",
    "    print(Question2,\"\\n\")\n",
    "    \n",
    "    for i in range(1,100):\n",
    "        res = sumOfDigits(i)\n",
    "        if res == i:\n",
    "            print(i)\n",
    "            \n",
    "showDisarium()"
   ]
  },
  {
   "cell_type": "code",
   "execution_count": 5,
   "id": "855b190f",
   "metadata": {},
   "outputs": [
    {
     "name": "stdout",
     "output_type": "stream",
     "text": [
      "Write a Python program to check if the given number is Happy Number? \n",
      "\n",
      "Enter a number to check for Happy: 32\n",
      "32 is a happy number \n"
     ]
    }
   ],
   "source": [
    "Question3 = \"Write a Python program to check if the given number is Happy Number?\"\n",
    "\n",
    "def isHappyNumber(num):    \n",
    "    rem = sum1 = 0\n",
    "        \n",
    "    while num > 0 :    \n",
    "        rem = num%10    \n",
    "        sum1 = sum1 + (rem*rem)\n",
    "        num = num//10\n",
    "    return sum1\n",
    "             \n",
    "\n",
    "def checkNum():\n",
    "    print(Question3,\"\\n\")\n",
    "    num = int(input(\"Enter a number to check for Happy: \"))\n",
    "    result = num\n",
    "    while(result != 1 and result != 4):    \n",
    "        result = isHappyNumber(result)   \n",
    "\n",
    "    print(f\"{num} is a happy number \" if result == 1 else f\"{num} is not a happy number\")\n",
    "    \n",
    "checkNum()\n"
   ]
  },
  {
   "cell_type": "code",
   "execution_count": 15,
   "id": "80bc4773",
   "metadata": {},
   "outputs": [
    {
     "name": "stdout",
     "output_type": "stream",
     "text": [
      "Write a Python program to print all happy numbers between 1 and 100? \n",
      "\n",
      "1\n",
      "7\n",
      "10\n",
      "13\n",
      "19\n",
      "23\n",
      "28\n",
      "31\n",
      "32\n",
      "44\n",
      "49\n",
      "68\n",
      "70\n",
      "79\n",
      "82\n",
      "86\n",
      "91\n",
      "94\n",
      "97\n",
      "100\n"
     ]
    }
   ],
   "source": [
    "Question4 = \"Write a Python program to print all happy numbers between 1 and 100?\"\n",
    "\n",
    "def isHappyNumber(num):    \n",
    "    rem = sum1 = 0\n",
    "        \n",
    "    while num > 0 :    \n",
    "        rem = num%10    \n",
    "        sum1 = sum1 + (rem*rem)\n",
    "        num = num//10\n",
    "    return sum1\n",
    "             \n",
    "\n",
    "def checkNum():\n",
    "    print(Question4,\"\\n\")\n",
    "    \n",
    "    for i in range(1,101):\n",
    "        result = i\n",
    "        while(result != 1 and result != 4):    \n",
    "            result = isHappyNumber(result)   \n",
    "        if result == 1:\n",
    "            print(i)\n",
    "    \n",
    "checkNum()"
   ]
  },
  {
   "cell_type": "code",
   "execution_count": 19,
   "id": "2698a6fd",
   "metadata": {},
   "outputs": [
    {
     "name": "stdout",
     "output_type": "stream",
     "text": [
      "Write a Python program to determine whether the given number is a Harshad Number? \n",
      "\n",
      "Enter a number to check if it is Harshad Number or not: 119\n",
      "Given number 119 is not a Harshad number\n"
     ]
    }
   ],
   "source": [
    "Question5 = \"Write a Python program to determine whether the given number is a Harshad Number?\"\n",
    "\n",
    "def harshadNumber():\n",
    "    print(Question5,\"\\n\")\n",
    "    num = int(input(\"Enter a number to check if it is Harshad Number or not: \"))\n",
    "    sum1, temp = 0, num\n",
    "    while temp > 0:\n",
    "        rem = temp%10\n",
    "        sum1 += rem\n",
    "        temp = temp//10\n",
    "        \n",
    "    print(f\"Given number {num} is a Harshad number\" if num%sum1==0 else f\"Given number {num} is not a Harshad number\")\n",
    "    \n",
    "harshadNumber()"
   ]
  },
  {
   "cell_type": "code",
   "execution_count": 21,
   "id": "1e3ca047",
   "metadata": {},
   "outputs": [
    {
     "name": "stdout",
     "output_type": "stream",
     "text": [
      "Write a Python program to print all pronic numbers between 1 and 100? \n",
      "\n",
      "2\n",
      "6\n",
      "12\n",
      "20\n",
      "30\n",
      "42\n",
      "56\n",
      "72\n",
      "90\n"
     ]
    }
   ],
   "source": [
    "Question6 = \"Write a Python program to print all pronic numbers between 1 and 100?\"\n",
    "\n",
    "def pronicNumber(num):\n",
    "    flag = False\n",
    "    for i in range(1,num+1):\n",
    "        if i*(i+1) == num:\n",
    "            flag = True\n",
    "    return flag\n",
    "\n",
    "def checkNum():\n",
    "    print(Question6,\"\\n\")\n",
    "    \n",
    "    for i in range(1,101):\n",
    "        if pronicNumber(i):\n",
    "            print(i)\n",
    "            \n",
    "checkNum()\n",
    "    "
   ]
  }
 ],
 "metadata": {
  "kernelspec": {
   "display_name": "Python 3 (ipykernel)",
   "language": "python",
   "name": "python3"
  },
  "language_info": {
   "codemirror_mode": {
    "name": "ipython",
    "version": 3
   },
   "file_extension": ".py",
   "mimetype": "text/x-python",
   "name": "python",
   "nbconvert_exporter": "python",
   "pygments_lexer": "ipython3",
   "version": "3.9.12"
  }
 },
 "nbformat": 4,
 "nbformat_minor": 5
}

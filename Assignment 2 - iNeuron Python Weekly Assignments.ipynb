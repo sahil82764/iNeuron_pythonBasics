{
 "cells": [
  {
   "cell_type": "markdown",
   "id": "bc826572",
   "metadata": {},
   "source": [
    "# Assignment 2 - iNeuron Python Weekly Assignments "
   ]
  },
  {
   "cell_type": "code",
   "execution_count": 1,
   "id": "8dce80ae",
   "metadata": {},
   "outputs": [
    {
     "name": "stdout",
     "output_type": "stream",
     "text": [
      "525\n"
     ]
    }
   ],
   "source": [
    "# Q1. Find the largest number from the given list, use for loop.\n",
    "\n",
    "numbers = [12, 75, 150, 180, 145, 525, 50]\n",
    "\n",
    "def checkLarge():\n",
    "    largest = 0\n",
    "    for i in range(len(numbers)):\n",
    "        if numbers[i] > largest:\n",
    "            largest = numbers[i]\n",
    "        else:\n",
    "            continue\n",
    "    print(largest)\n",
    "            \n",
    "checkLarge()\n",
    "        \n",
    "        "
   ]
  },
  {
   "cell_type": "code",
   "execution_count": 2,
   "id": "10649221",
   "metadata": {},
   "outputs": [
    {
     "name": "stdout",
     "output_type": "stream",
     "text": [
      "2\n",
      "4\n",
      "6\n",
      "8\n",
      "10\n"
     ]
    }
   ],
   "source": [
    "# Q2. Print all the even number between (1, 12).\n",
    "\n",
    "for i in range(1,12):\n",
    "    if i%2 == 0:\n",
    "        print(i)"
   ]
  },
  {
   "cell_type": "code",
   "execution_count": null,
   "id": "845ad588",
   "metadata": {},
   "outputs": [],
   "source": [
    " # Q3. Calculate the sum of all numbers from 1 to a given number\n",
    "    \n",
    "number = int(input(\"Enter number: \"))\n",
    "\n",
    "sum1 = 0\n",
    "\n",
    "for i in range(1, number+1):\n",
    "    sum1 += i\n",
    "    \n",
    "print(sum1)"
   ]
  },
  {
   "cell_type": "code",
   "execution_count": null,
   "id": "5d345da8",
   "metadata": {},
   "outputs": [],
   "source": [
    "\"\"\" Write a program to display only those numbers from a list that satisfy the following conditions\n",
    "\n",
    "The number must be divisible by five\n",
    "\n",
    "If the number is greater than 150, then skip it and move to the next number\n",
    "\n",
    "If the number is greater than 500, then stop the loop \"\"\"\n",
    "\n",
    "numbers = [12, 75, 150, 180, 145, 525, 50]\n",
    "\n",
    "divisible5 = []\n",
    "lessThan150 = []\n",
    "lessThan500 = []\n",
    "\n",
    "for i in numbers:\n",
    "    if i%5 == 0:\n",
    "        divisible5.append(i)\n",
    "\n",
    "lessThan150 = [i for i in numbers if i < 150]\n",
    "\n",
    "for i in numbers:\n",
    "    if i < 500:\n",
    "        lessThan500.append(i)\n",
    "    else: break\n",
    "        \n",
    "print(f\"Divisible by 5: {divisible5}\")\n",
    "print(f\"If the number is greater than 150, then skip it and move to the next number: {lessThan150}\")\n",
    "print(f\"If the number is greater than 500, then stop the loop: {lessThan500}\")\n",
    "\n",
    "    \n",
    "        "
   ]
  },
  {
   "cell_type": "code",
   "execution_count": null,
   "id": "e827a14e",
   "metadata": {},
   "outputs": [],
   "source": [
    "# Print the given list in reverse order.\n",
    "\n",
    "list1 = [10, 20, 30, 40, 50]\n",
    "\n",
    "print(list1[::-1])"
   ]
  }
 ],
 "metadata": {
  "kernelspec": {
   "display_name": "Python 3 (ipykernel)",
   "language": "python",
   "name": "python3"
  },
  "language_info": {
   "codemirror_mode": {
    "name": "ipython",
    "version": 3
   },
   "file_extension": ".py",
   "mimetype": "text/x-python",
   "name": "python",
   "nbconvert_exporter": "python",
   "pygments_lexer": "ipython3",
   "version": "3.9.12"
  }
 },
 "nbformat": 4,
 "nbformat_minor": 5
}

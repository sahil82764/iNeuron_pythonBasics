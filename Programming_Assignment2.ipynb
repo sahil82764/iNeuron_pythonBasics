{
 "cells": [
  {
   "cell_type": "code",
   "execution_count": 1,
   "id": "438b7515",
   "metadata": {},
   "outputs": [
    {
     "name": "stdout",
     "output_type": "stream",
     "text": [
      "Write a Python program to convert kilometers to miles?\n",
      "Enter value in Kilometers: 18.9\n",
      "18.9 km in miles is 11.743911899999999 mi\n"
     ]
    }
   ],
   "source": [
    "Question1 = \"Write a Python program to convert kilometers to miles?\"\n",
    "\n",
    "def kmToMi():\n",
    "    print(Question1)\n",
    "    km = float(input(\"Enter value in Kilometers: \"))\n",
    "    conversion = 0.621371\n",
    "    mi = km*conversion\n",
    "    print(f\"{km} km in miles is {mi} mi\")\n",
    "    \n",
    "kmToMi()"
   ]
  },
  {
   "cell_type": "code",
   "execution_count": 2,
   "id": "c40dc4a8",
   "metadata": {},
   "outputs": [
    {
     "name": "stdout",
     "output_type": "stream",
     "text": [
      "Write a Python program to convert Celsius to Fahrenheit?\n",
      "Enter value in Celsius: 37.6\n",
      "37.6 celsius degree in Fahrenheit is 99.68\n"
     ]
    }
   ],
   "source": [
    "Question2 = \"Write a Python program to convert Celsius to Fahrenheit?\"\n",
    "\n",
    "def clToFh():\n",
    "    print(Question2)\n",
    "    cel = float(input(\"Enter value in Celsius: \"))\n",
    "    fh = (cel*1.8)+32\n",
    "    print(f\"{cel} celsius degree in Fahrenheit is {fh}\")\n",
    "    \n",
    "clToFh()"
   ]
  },
  {
   "cell_type": "code",
   "execution_count": 3,
   "id": "2c7f3188",
   "metadata": {},
   "outputs": [
    {
     "name": "stdout",
     "output_type": "stream",
     "text": [
      "Write a Python program to display calendar?\n",
      "Enter month and year(with space): 09 2022\n",
      "   September 2022\n",
      "Mo Tu We Th Fr Sa Su\n",
      "          1  2  3  4\n",
      " 5  6  7  8  9 10 11\n",
      "12 13 14 15 16 17 18\n",
      "19 20 21 22 23 24 25\n",
      "26 27 28 29 30\n",
      "\n"
     ]
    }
   ],
   "source": [
    "import calendar\n",
    "\n",
    "Question3 = \"Write a Python program to display calendar?\"\n",
    "\n",
    "def dispCalender():\n",
    "    print(Question3)\n",
    "    mm, yy = map(int, input(\"Enter month and year(with space): \").split(\" \"))\n",
    "    print(calendar.month(yy,mm))\n",
    "\n",
    "dispCalender()    "
   ]
  },
  {
   "cell_type": "code",
   "execution_count": 4,
   "id": "4f6270eb",
   "metadata": {},
   "outputs": [
    {
     "name": "stdout",
     "output_type": "stream",
     "text": [
      "Write a Python program to solve quadratic equation?\n",
      "\n",
      "Enter three values of quadratic equation (a, b, c): 1 5 6\n",
      "\n",
      "Soution of given Quadratic Equation: 1x^2 + 5x + 6 = 0 \n",
      "\n",
      "Answer1: (-3+0j), Answer2: (-2+0j)\n"
     ]
    }
   ],
   "source": [
    "import cmath\n",
    "\n",
    "Question4 = \"Write a Python program to solve quadratic equation?\"\n",
    "\n",
    "def solveQuad():\n",
    "    print(Question4+\"\\n\")\n",
    "    a,b,c = map(int, input(\"Enter three values of quadratic equation (a, b, c): \").split(\" \"))\n",
    "    \n",
    "    d = (b**2) - (4*a*c) #discriminant\n",
    "    \n",
    "    solution1 = (-b - cmath.sqrt(d))/(2*a)\n",
    "    solution2 = (-b + cmath.sqrt(d))/(2*a)\n",
    "    \n",
    "    print(f\"\\nSoution of given Quadratic Equation: {a}x^2 + {b}x + {c} = 0 \\n\")\n",
    "    print(f\"Answer1: {solution1}, Answer2: {solution2}\")\n",
    "\n",
    "solveQuad()    "
   ]
  },
  {
   "cell_type": "code",
   "execution_count": 5,
   "id": "41e87536",
   "metadata": {},
   "outputs": [
    {
     "name": "stdout",
     "output_type": "stream",
     "text": [
      "Write a Python program to swap two variables without temp variable?\n",
      "\n",
      "Enter two values swap: 5 7\n",
      "Before Swap: A = 5, B = 7\n",
      "After Swap: A = 7, B = 5\n"
     ]
    }
   ],
   "source": [
    "Question5 = \"Write a Python program to swap two variables without temp variable?\"\n",
    "\n",
    "def swapVar():\n",
    "    print(Question5+\"\\n\")\n",
    "    varX,varY = map(int, input(\"Enter two values swap: \").split(\" \"))\n",
    "    print(f\"Before Swap: A = {varX}, B = {varY}\")\n",
    "    varX = varX +varY\n",
    "    varY = varX - varY\n",
    "    varX = varX - varY\n",
    "    print(f\"After Swap: A = {varX}, B = {varY}\")\n",
    "    \n",
    "swapVar()"
   ]
  }
 ],
 "metadata": {
  "kernelspec": {
   "display_name": "Python 3 (ipykernel)",
   "language": "python",
   "name": "python3"
  },
  "language_info": {
   "codemirror_mode": {
    "name": "ipython",
    "version": 3
   },
   "file_extension": ".py",
   "mimetype": "text/x-python",
   "name": "python",
   "nbconvert_exporter": "python",
   "pygments_lexer": "ipython3",
   "version": "3.9.12"
  }
 },
 "nbformat": 4,
 "nbformat_minor": 5
}

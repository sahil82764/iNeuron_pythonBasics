{
 "cells": [
  {
   "cell_type": "code",
   "execution_count": null,
   "id": "f53723ab",
   "metadata": {},
   "outputs": [],
   "source": [
    "Question1 = \"Write a Python program to find sum of elements in list?\"\n",
    "\n",
    "def sumList():\n",
    "    print(Question1,\"\\n\")\n",
    "    ls = list(map(int, input(\"Enter a list of numbers space seperated: \").split(\" \")))\n",
    "    print(f\"Given list: {ls} \\nSum of the elements: {sum(ls)}\")\n",
    "    \n",
    "sumList()"
   ]
  },
  {
   "cell_type": "code",
   "execution_count": null,
   "id": "68a5f1a0",
   "metadata": {},
   "outputs": [],
   "source": [
    "Question2 = \"Write a Python program to  Multiply all numbers in the list?\"\n",
    "\n",
    "def mulList():\n",
    "    print(Question2,\"\\n\")\n",
    "    ls = list(map(int, input(\"Enter a list of numbers space seperated: \").split(\" \")))\n",
    "    res = 1\n",
    "    for i in ls:\n",
    "        res *= i\n",
    "    print(f\"Given list: {ls} \\nProduct of the elements: {res}\")\n",
    "    \n",
    "mulList()"
   ]
  },
  {
   "cell_type": "code",
   "execution_count": null,
   "id": "011959ed",
   "metadata": {},
   "outputs": [],
   "source": [
    "Question3 = \"Write a Python program to find smallest number in a list?\"\n",
    "\n",
    "def minList():\n",
    "    print(Question3,\"\\n\")\n",
    "    ls = list(map(int, input(\"Enter a list of numbers space seperated: \").split(\" \")))\n",
    "    print(f\"Given list: {ls} \\nSmallest of the elements: {min(ls)}\")\n",
    "    \n",
    "minList()"
   ]
  },
  {
   "cell_type": "code",
   "execution_count": null,
   "id": "4bf422ff",
   "metadata": {},
   "outputs": [],
   "source": [
    "Question4 = \"Write a Python program to find largest number in a list?\"\n",
    "\n",
    "def maxList():\n",
    "    print(Question4,\"\\n\")\n",
    "    ls = list(map(int, input(\"Enter a list of numbers space seperated: \").split(\" \")))\n",
    "    print(f\"Given list: {ls} \\nLargest of the elements: {max(ls)}\")\n",
    "    \n",
    "maxList()"
   ]
  },
  {
   "cell_type": "code",
   "execution_count": null,
   "id": "17febbcd",
   "metadata": {},
   "outputs": [],
   "source": [
    "Question5 = \"Write a Python program to find second largest number in a list?\"\n",
    "\n",
    "def maxList():\n",
    "    print(Question5,\"\\n\")\n",
    "    ls = list(map(int, input(\"Enter a list of numbers space seperated: \").split(\" \")))\n",
    "    ls.sort()\n",
    "    print(f\"Given list: {ls} \\nSecond Largest of the elements: {ls[-2]}\")\n",
    "    \n",
    "maxList()"
   ]
  },
  {
   "cell_type": "code",
   "execution_count": null,
   "id": "2ed26042",
   "metadata": {},
   "outputs": [],
   "source": [
    "Question6 = \"Write a Python program to find N largest elements from a list?\"\n",
    "\n",
    "def maxN():\n",
    "    print(Question6,\"\\n\")\n",
    "    ls = list(map(int, input(\"Enter a list of numbers space seperated: \").split(\" \")))\n",
    "    n = int(input(\"Enter n to find Nth largest number in list: \"))\n",
    "    ls.sort()\n",
    "    print(f\"Given list: {ls} \\nSecond Largest of the elements: {ls[-n]}\")\n",
    "    \n",
    "maxN()"
   ]
  },
  {
   "cell_type": "code",
   "execution_count": null,
   "id": "67ef9cee",
   "metadata": {},
   "outputs": [],
   "source": [
    "Question7 = \"Write a Python program to print even numbers in a list?\"\n",
    "\n",
    "def evenList():\n",
    "    print(Question7,\"\\n\")\n",
    "    ls = list(map(int, input(\"Enter a list of numbers space seperated: \").split(\" \")))\n",
    "    ls1 = []\n",
    "    for i in ls:\n",
    "        if i%2 == 0:\n",
    "            ls1.append(i)\n",
    "    print(f\"Given list: {ls} \\nEven elements in list: {ls1}\")\n",
    "    \n",
    "evenList()"
   ]
  },
  {
   "cell_type": "code",
   "execution_count": null,
   "id": "7668543b",
   "metadata": {},
   "outputs": [],
   "source": [
    "Question8 = \"Write a Python program to print odd numbers in a List?\"\n",
    "\n",
    "def oddList():\n",
    "    print(Question8,\"\\n\")\n",
    "    ls = list(map(int, input(\"Enter a list of numbers space seperated: \").split(\" \")))\n",
    "    ls1 = []\n",
    "    for i in ls:\n",
    "        if i%2 != 0:\n",
    "            ls1.append(i)\n",
    "    print(f\"Given list: {ls} \\nOdd elements in list: {ls1}\")\n",
    "    \n",
    "oddList()"
   ]
  },
  {
   "cell_type": "code",
   "execution_count": null,
   "id": "f3895e60",
   "metadata": {},
   "outputs": [],
   "source": [
    "Question9 = \"Write a Python program to Remove empty List from List?\"\n",
    "\n",
    "def remList():\n",
    "    print(Question9,\"\\n\")\n",
    "    ls = [5,2,[],3,4,7,[]]\n",
    "    ls1 = [i for i in ls if i != []]\n",
    "    print(f\"Given list: {ls} \\nRemove empty list from list: {ls1}\")\n",
    "    \n",
    "remList()"
   ]
  },
  {
   "cell_type": "code",
   "execution_count": null,
   "id": "256186b5",
   "metadata": {},
   "outputs": [],
   "source": [
    "Question10 = \"Write a Python program to Cloning or Copying a list?\"\n",
    "\n",
    "def cloneList():\n",
    "    print(Question10,\"\\n\")\n",
    "    ls = list(map(int, input(\"Enter a list of numbers space seperated: \").split(\" \")))\n",
    "    ls1 = [i for i in ls]\n",
    "    print(f\"Given list: {ls} \\nClone list from list: {ls1}\")\n",
    "    \n",
    "cloneList()"
   ]
  },
  {
   "cell_type": "code",
   "execution_count": null,
   "id": "ac298702",
   "metadata": {},
   "outputs": [],
   "source": [
    "from collections import Counter\n",
    "\n",
    "Question11 = \"Write a Python program to Count occurrences of an element in a list?\"\n",
    "\n",
    "def countOccur():\n",
    "    print(Question11,\"\\n\")\n",
    "    ls = list(map(int, input(\"Enter a list of numbers space seperated: \").split(\" \")))\n",
    "    num = int(input(\"Enter a number to count its occurences\"))\n",
    "    x = Counter(ls)\n",
    "    print(f\"Given list: {ls} \\n{num} is listed {x[num]} times in given list\")\n",
    "    \n",
    "countOccur()"
   ]
  }
 ],
 "metadata": {
  "kernelspec": {
   "display_name": "Python 3 (ipykernel)",
   "language": "python",
   "name": "python3"
  },
  "language_info": {
   "codemirror_mode": {
    "name": "ipython",
    "version": 3
   },
   "file_extension": ".py",
   "mimetype": "text/x-python",
   "name": "python",
   "nbconvert_exporter": "python",
   "pygments_lexer": "ipython3",
   "version": "3.9.12"
  }
 },
 "nbformat": 4,
 "nbformat_minor": 5
}

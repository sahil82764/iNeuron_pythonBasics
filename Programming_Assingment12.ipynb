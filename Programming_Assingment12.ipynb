{
 "cells": [
  {
   "cell_type": "code",
   "execution_count": null,
   "id": "86bf7b3f",
   "metadata": {},
   "outputs": [],
   "source": [
    "Question1 = \"Write a Python program to Extract Unique values dictionary values?\"\n",
    "\n",
    "dict1 = {'A' : [1, 3, 5, 4],\n",
    "             'B' : [4, 6, 8, 10],\n",
    "             'C' : [6, 12, 4 ,8],\n",
    "             'D' : [5, 7, 2]}\n",
    "\n",
    "\n",
    "def unique(dict1):\n",
    "    print(Question1,\"\\n\")\n",
    "    print(\"The original dictionary is : \" ,dict1)\n",
    "    res = list(sorted({ele for val in dict1.values() for ele in val}))\n",
    "    print(\"The unique values list is : \" , res) \n",
    "    \n",
    "unique(dict1)"
   ]
  },
  {
   "cell_type": "code",
   "execution_count": null,
   "id": "a37584f8",
   "metadata": {},
   "outputs": [],
   "source": [
    "Question2 = \"Write a Python program to find the sum of all items in a dictionary?\"\n",
    "\n",
    "dict1 = {'a': 100, 'b': 200, 'c': 300}\n",
    "\n",
    "def sumDict(dict1):\n",
    "    print(Question2,\"\\n\")\n",
    "    print(f\"Original Dictionary: {dict1}\")\n",
    "    print(f\"Sum of all items in dictionary: {sum(dict1.values())}\")\n",
    "    \n",
    "sumDict(dict1)"
   ]
  },
  {
   "cell_type": "code",
   "execution_count": null,
   "id": "33852e7c",
   "metadata": {},
   "outputs": [],
   "source": [
    "Question3 = \"Write a Python program to Merging two Dictionaries?\"\n",
    "\n",
    "dict1 = {'x': 10, 'y': 8}\n",
    "dict2 = {'a': 6, 'b': 4}\n",
    "\n",
    "def mergeDict(dict1,dict2):\n",
    "    print(Question3,\"\\n\")\n",
    "    print(f\"Original Dictionary: \\n{dict1}\\n{dict2}\")\n",
    "    dict2.update(dict1)\n",
    "    print(dict2)\n",
    "    \n",
    "mergeDict(dict1,dict2)\n",
    "    "
   ]
  },
  {
   "cell_type": "code",
   "execution_count": null,
   "id": "e54d212d",
   "metadata": {},
   "outputs": [],
   "source": [
    "from itertools import product\n",
    "\n",
    "Question4 = \"Write a Python program to convert key-values list to flat dictionary?\"\n",
    "\n",
    "def flatDict():\n",
    "    print(Question4,\"\\n\")\n",
    "    \n",
    "    test_dict = {'month' : [1, 2, 3],\n",
    "                 'name' : ['Jan', 'Feb', 'March']}\n",
    "\n",
    "    print(\"The original dictionary is : \" + str(test_dict))\n",
    "\n",
    "    res = dict(zip(test_dict['month'], test_dict['name']))\n",
    "\n",
    "    print(\"Flattened dictionary : \" + str(res))\n",
    "    \n",
    "flatDict()"
   ]
  },
  {
   "cell_type": "code",
   "execution_count": null,
   "id": "c348d189",
   "metadata": {},
   "outputs": [],
   "source": [
    "from collections import OrderedDict  \n",
    "\n",
    "Question5 = \"Write a Python program to insertion at the beginning in OrderedDict?\"\n",
    "\n",
    "def insDict():\n",
    "    print(Question5,\"\\n\")\n",
    "    dic1 = OrderedDict([('A', '100'), ('B', '200'), ('C', '300')])\n",
    "    print(f\"Original Dictionary {dic1}\")\n",
    "    dict2 = {\"D\": '400'}\n",
    "    dic1.update(dict2)\n",
    "    print(f\"Item to be inserted: {dict2}\")\n",
    "\n",
    "    dic1.move_to_end(\"D\", last=False)\n",
    "\n",
    "    print (f\"Resultant Dictionary: {dic1}\")\n",
    "    \n",
    "insDict()"
   ]
  },
  {
   "cell_type": "code",
   "execution_count": null,
   "id": "4d3549d7",
   "metadata": {},
   "outputs": [],
   "source": [
    "from collections import OrderedDict\n",
    "\n",
    "Question6 = \"Write a Python program to check order of character in string using OrderedDict()?\"\n",
    "\n",
    "def check_order(my_input, my_pattern):\n",
    "    my_dict = OrderedDict.fromkeys(my_input)\n",
    "    pattern_length = 0\n",
    "    for key,value in my_dict.items():\n",
    "        if (key == my_pattern[pattern_length]):\n",
    "            pattern_length = pattern_length + 1\n",
    "\n",
    "        if (pattern_length == (len(my_pattern))):\n",
    "            return 'The order of pattern is correct'\n",
    "\n",
    "    return 'The order of pattern is incorrect'\n",
    "\n",
    "def check():\n",
    "    print(Question6,\"\\n\")\n",
    "    s1 = \"Hi Sahil\"\n",
    "    pattern = \"Sa\"\n",
    "    print(f\"String: {s1} \\nPattern: {pattern}\")\n",
    "    print(check_order(s1,pattern))\n",
    "    \n",
    "check()"
   ]
  },
  {
   "cell_type": "code",
   "execution_count": null,
   "id": "ba968c2d",
   "metadata": {},
   "outputs": [],
   "source": [
    "Question7 = \"Write a Python program to sort Python Dictionaries by Key or Value?\"\n",
    "\n",
    "def sortDict(): \n",
    "    print(Question7,\"\\n\")\n",
    "    dict1 = {'ravi': '10', 'rajnish': '9',\n",
    "            'sanjeev': '15', 'yash': '2', 'suraj': '32'}\n",
    "    print(f\"Original Dict: {dict1}\")\n",
    "    dict2 = OrderedDict(sorted(dict1.items()))\n",
    "    print(f\"Resultant Dictionary: {dict2}\")\n",
    "\n",
    "sortDict()"
   ]
  }
 ],
 "metadata": {
  "kernelspec": {
   "display_name": "Python 3 (ipykernel)",
   "language": "python",
   "name": "python3"
  },
  "language_info": {
   "codemirror_mode": {
    "name": "ipython",
    "version": 3
   },
   "file_extension": ".py",
   "mimetype": "text/x-python",
   "name": "python",
   "nbconvert_exporter": "python",
   "pygments_lexer": "ipython3",
   "version": "3.9.12"
  }
 },
 "nbformat": 4,
 "nbformat_minor": 5
}

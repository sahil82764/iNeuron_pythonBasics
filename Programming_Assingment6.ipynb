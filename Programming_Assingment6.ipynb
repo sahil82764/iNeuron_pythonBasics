{
 "cells": [
  {
   "cell_type": "code",
   "execution_count": null,
   "id": "e54b3fc3",
   "metadata": {},
   "outputs": [],
   "source": [
    "Question1 = \"Write a Python Program to Display Fibonacci Sequence Using Recursion?\"\n",
    "\n",
    "def fibb(num):\n",
    "    if num <= 1:\n",
    "        return num\n",
    "    else:\n",
    "        return(fibb(num-1) + fibb(num-2))\n",
    "\n",
    "def fibbSeries():\n",
    "    print(Question1,\"\\n\")\n",
    "    num = int(input(\"Enter a number for fibonacci series: \"))\n",
    "    if num <= 0:\n",
    "        print(\"Positive Integer is required\")        \n",
    "    else:\n",
    "        print(\"Fibonacci sequence:\")\n",
    "        for i in range(num):\n",
    "            print(fibb(i))\n",
    "            \n",
    "fibbSeries()\n",
    "    "
   ]
  },
  {
   "cell_type": "code",
   "execution_count": 1,
   "id": "dd357a14",
   "metadata": {},
   "outputs": [
    {
     "name": "stdout",
     "output_type": "stream",
     "text": [
      "Write a Python Program to Find Factorial of Number Using Recursion? \n",
      "\n",
      "Enter a number to find the factorial: 5\n",
      "The factorial of a given number is: 120\n"
     ]
    }
   ],
   "source": [
    "Question2 = \"Write a Python Program to Find Factorial of Number Using Recursion?\"\n",
    "\n",
    "def fact(num):\n",
    "    return num if num == 1 else num*fact(num-1)\n",
    "\n",
    "def findFact():\n",
    "    print(Question2,\"\\n\")\n",
    "    num = int(input(\"Enter a number to find the factorial: \"))\n",
    "    print(f\"The factorial of a given number is: {fact(num)}\")\n",
    "    \n",
    "findFact()\n",
    "    "
   ]
  },
  {
   "cell_type": "code",
   "execution_count": 3,
   "id": "3de92dca",
   "metadata": {},
   "outputs": [
    {
     "name": "stdout",
     "output_type": "stream",
     "text": [
      "Write a Python Program to calculate your Body Mass Index? \n",
      "\n",
      "Enter your height(meters) and weight(kg): 1.69 75\n",
      "BMI = 26.25958474843318\n",
      "overweight\n"
     ]
    }
   ],
   "source": [
    "Question3 = \"Write a Python Program to calculate your Body Mass Index?\"\n",
    "\n",
    "def bmiCalculator():\n",
    "    print(Question3,\"\\n\")\n",
    "    height, weight = map(float, input(\"Enter your height(meters) and weight(kg): \").split(\" \"))\n",
    "    bmi = weight/(height*height)\n",
    "    print(f\"BMI = {bmi}\")\n",
    "    if bmi < 18.5:\n",
    "        print(\"Underweight\") \n",
    "    elif bmi >= 18.5 and bmi < 24.9:\n",
    "        print(\"Healthy\") \n",
    "    elif bmi >= 24.9 and bmi < 30:\n",
    "        print(\"overweight\") \n",
    "    else :\n",
    "        print(\"Obesity\")\n",
    "        \n",
    "bmiCalculator()"
   ]
  },
  {
   "cell_type": "code",
   "execution_count": 5,
   "id": "b1ecbad5",
   "metadata": {},
   "outputs": [
    {
     "name": "stdout",
     "output_type": "stream",
     "text": [
      "Write a Python Program to calculate the natural logarithm of any number? \n",
      "\n",
      "Enter a number: 14\n",
      "Natural Log of given 14 is 2.6390573296152584\n"
     ]
    }
   ],
   "source": [
    "import math\n",
    "\n",
    "Question4 = \"Write a Python Program to calculate the natural logarithm of any number?\"\n",
    "\n",
    "def lnNatural():\n",
    "    print(Question4,\"\\n\")\n",
    "    num = int(input(\"Enter a number: \"))\n",
    "    print(f\"Natural Log of given {num} is {math.log(num)}\")\n",
    "    \n",
    "lnNatural()\n",
    "    "
   ]
  },
  {
   "cell_type": "code",
   "execution_count": 6,
   "id": "8108d734",
   "metadata": {},
   "outputs": [
    {
     "name": "stdout",
     "output_type": "stream",
     "text": [
      "Write a Python Program for cube sum of first n natural numbers? \n",
      "\n",
      "Enter a number: 4\n",
      "Cube sum of first 4 natural numbers is 100\n"
     ]
    }
   ],
   "source": [
    "Question5 = \"Write a Python Program for cube sum of first n natural numbers?\"\n",
    "\n",
    "def cubeSum():\n",
    "    print(Question5,\"\\n\")\n",
    "    num = int(input(\"Enter a number: \"))\n",
    "    s = 0\n",
    "    for i in range(1, num+1):\n",
    "        s += pow(i,3)\n",
    "    print(f\"Cube sum of first {num} natural numbers is {s}\")\n",
    "    \n",
    "cubeSum()"
   ]
  }
 ],
 "metadata": {
  "kernelspec": {
   "display_name": "Python 3 (ipykernel)",
   "language": "python",
   "name": "python3"
  },
  "language_info": {
   "codemirror_mode": {
    "name": "ipython",
    "version": 3
   },
   "file_extension": ".py",
   "mimetype": "text/x-python",
   "name": "python",
   "nbconvert_exporter": "python",
   "pygments_lexer": "ipython3",
   "version": "3.9.12"
  }
 },
 "nbformat": 4,
 "nbformat_minor": 5
}

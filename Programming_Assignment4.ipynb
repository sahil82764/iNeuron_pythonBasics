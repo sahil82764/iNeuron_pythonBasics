{
 "cells": [
  {
   "cell_type": "code",
   "execution_count": null,
   "id": "3f11a8d4",
   "metadata": {},
   "outputs": [],
   "source": [
    "Question1 = \"Write a Python Program to Find the Factorial of a Number?\"\n",
    "\n",
    "def factorial(x):\n",
    "    if x == 1:\n",
    "        return 1\n",
    "    else:\n",
    "        return (x * factorial(x-1))\n",
    "\n",
    "def factNum():\n",
    "    print(Question1)\n",
    "    num = int(input(\"Enter a number to get its Factorial: \"))\n",
    "    res = factorial(num)\n",
    "    print(f\"The factorial of {num} is {res}\")\n",
    "    \n",
    "factNum()"
   ]
  },
  {
   "cell_type": "code",
   "execution_count": null,
   "id": "500fe3b2",
   "metadata": {},
   "outputs": [],
   "source": [
    "Question2 = \"Write a Python Program to Display the multiplication Table?\"\n",
    "\n",
    "def mulTable():\n",
    "    print(Question2, \"\\n\")\n",
    "    num = int(input(\"Enter a number to get table: \"))\n",
    "    for i in range(1,10+1):\n",
    "        print(i*num)\n",
    "\n",
    "mulTable()"
   ]
  },
  {
   "cell_type": "code",
   "execution_count": null,
   "id": "da5bb149",
   "metadata": {},
   "outputs": [],
   "source": [
    "Question3 = \"Write a Python Program to Print the Fibonacci sequence?\"\n",
    "\n",
    "def fibbSeries():\n",
    "    print(Question3, \"\\n\")\n",
    "    num = int(input(\"Enter the number of terms: \"))\n",
    "    n0, n1 = 0, 1\n",
    "    count = 0\n",
    "    \n",
    "    if num <= 0:\n",
    "       print(\"Please enter a positive integer\")\n",
    "    \n",
    "    elif num == 1:\n",
    "       print(\"Fibonacci sequence upto\",num,\":\")\n",
    "       print(n0)\n",
    "    \n",
    "    else:\n",
    "       print(\"Fibonacci sequence:\")\n",
    "       while count < num:\n",
    "           print(n0)\n",
    "           nth = n0 + n1\n",
    "           n0 = n1\n",
    "           n1 = nth\n",
    "           count += 1\n",
    "        \n",
    "fibbSeries()"
   ]
  },
  {
   "cell_type": "code",
   "execution_count": null,
   "id": "7f536c40",
   "metadata": {},
   "outputs": [],
   "source": [
    "Question4 = \"Write a Python Program to Check Armstrong Number?\"\n",
    "\n",
    "def armNum():\n",
    "    print(Question4)\n",
    "    num = int(input(\"Enter a number to check for Armstrong: \"))\n",
    "\n",
    "    cumm = 0\n",
    "\n",
    "    temp = num\n",
    "    while temp > 0:\n",
    "       digit = temp % 10\n",
    "       cumm += digit ** 3\n",
    "       temp //= 10\n",
    "\n",
    "    print(f\"{num} is an Armstrong number\" if num == cumm else f\"{num} is not an Armstrong number\")\n",
    "\n",
    "armNum()"
   ]
  },
  {
   "cell_type": "code",
   "execution_count": null,
   "id": "ae8b2c24",
   "metadata": {},
   "outputs": [],
   "source": [
    "Question5 = \"Write a Python Program to Find Armstrong Number in an Interval?\"\n",
    "\n",
    "def findArm():\n",
    "    print(Question5, \"\\n\")\n",
    "    \n",
    "    lower, upper = map(int, input(\"Enter Lower and Upper Limit to find Armstrong in an interval: \").split(\" \"))\n",
    "\n",
    "    for num in range(lower, upper + 1):\n",
    "       order = len(str(num))\n",
    "       sum = 0\n",
    "       temp = num\n",
    "       while temp > 0:\n",
    "           digit = temp % 10\n",
    "           sum += digit ** order\n",
    "           temp //= 10\n",
    "\n",
    "       if num == sum:\n",
    "           print(num)\n",
    "            \n",
    "findArm()"
   ]
  },
  {
   "cell_type": "code",
   "execution_count": null,
   "id": "5f6954a8",
   "metadata": {},
   "outputs": [],
   "source": [
    "Question6 = \"Write a Python Program to Find the Sum of Natural Numbers?\"\n",
    "\n",
    "def sumNum():\n",
    "    print(Question6, \"\\n\")\n",
    "    num = int(input(\"Enter a number to find sum of n natural numbers\"))\n",
    "    print(\"Enter a positive number\" if num<0 else ((num*(num+1))/2))\n",
    "    \n",
    "sumNum()"
   ]
  }
 ],
 "metadata": {
  "kernelspec": {
   "display_name": "Python 3 (ipykernel)",
   "language": "python",
   "name": "python3"
  },
  "language_info": {
   "codemirror_mode": {
    "name": "ipython",
    "version": 3
   },
   "file_extension": ".py",
   "mimetype": "text/x-python",
   "name": "python",
   "nbconvert_exporter": "python",
   "pygments_lexer": "ipython3",
   "version": "3.9.12"
  }
 },
 "nbformat": 4,
 "nbformat_minor": 5
}
